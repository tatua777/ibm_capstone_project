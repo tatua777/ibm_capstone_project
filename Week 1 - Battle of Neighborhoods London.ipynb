{
 "cells": [
  {
   "cell_type": "markdown",
   "metadata": {},
   "source": [
    "### Definition of an Idea:\n",
    "\n",
    "Decision in which Borough in London to open a new venue.\n",
    "London is a huge city with lots of cultures blended in it. This city seems to be full of opportunities. London is also a popular tourist destination. Many businessmen see great opportunities (as well as risks) in this city. The prices here are high, so it's very important to find the right place to open a new venue. \n",
    "\n",
    "- Is the competition in the area already too high?\n",
    "- Who are the competitors?\n",
    "- Is there enough relevant audience in the area?\n",
    "- What are the most popular types of cousine in specific region?\n",
    "\n",
    "The plan is to answer these and other questions by making the following steps:\n",
    "\n",
    "1. Web scrape the names of the London Boroughs.\n",
    "2. Analyse and choose which ones are good to work with. \n",
    "3. Obtain information about nearby venues, using Foursquare. \n",
    "4. Use k-means algorithm to cluster the venues. \n",
    "5. Visualise the results within the folium map. \n",
    "6. Evaluate and discuss the results. \n",
    "7. Derive the conclusions.\n",
    "\n",
    "### The data we will work with:\n",
    "\n",
    "We will scrape the wikipedia webpage: https://en.wikipedia.org/wiki/List_of_London_boroughs\n",
    "This page contains the table with list of boroughs in London. \n",
    "The important information in the table is: Borugh name, Area, Population. \n",
    "Beautiful soup library will be used for this purpose.\n"
   ]
  },
  {
   "cell_type": "code",
   "execution_count": null,
   "metadata": {},
   "outputs": [],
   "source": []
  }
 ],
 "metadata": {
  "kernelspec": {
   "display_name": "Python",
   "language": "python",
   "name": "conda-env-python-py"
  },
  "language_info": {
   "codemirror_mode": {
    "name": "ipython",
    "version": 3
   },
   "file_extension": ".py",
   "mimetype": "text/x-python",
   "name": "python",
   "nbconvert_exporter": "python",
   "pygments_lexer": "ipython3",
   "version": "3.6.12"
  }
 },
 "nbformat": 4,
 "nbformat_minor": 4
}
